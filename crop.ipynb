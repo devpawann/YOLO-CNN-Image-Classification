{
  "cells": [
    {
      "cell_type": "code",
      "execution_count": null,
      "metadata": {
        "id": "0Wm3Gv_wGm8j"
      },
      "outputs": [],
      "source": [
        "!pip install -qr /content/drive/MyDrive/MajorProj/cnn_yolo/yolov5/requirements.txt"
      ]
    },
    {
      "cell_type": "code",
      "execution_count": null,
      "metadata": {
        "id": "Z1mt5AdWHs8x"
      },
      "outputs": [],
      "source": [
        "early_blight_dataset_path=\"/content/drive/MyDrive/MajorProj/Dataset/Tomato_Early_blight\"\n",
        "yellow_curl_dataset_path=\"/content/drive/MyDrive/MajorProj/Dataset/Tomato__Tomato_YellowLeaf__Curl_Virus\"\n",
        "healthy_path=\"/content/drive/MyDrive/MajorProj/Dataset/ORGINAL_PLANT_VILLAGE/Tomato_healthy\"\n",
        "bacterial_path=\"/content/drive/MyDrive/MajorProj/Dataset/ORGINAL_PLANT_VILLAGE/Tomato_Bacterial_spot\""
      ]
    },
    {
      "cell_type": "code",
      "execution_count": null,
      "metadata": {
        "id": "17etzDlNJ8E5"
      },
      "outputs": [],
      "source": [
        "def labelImageAndReturnLabelFile(imagePath):\n",
        "  #detect label\n",
        "  res = !python /content/drive/MyDrive/MajorProj/cnn_yolo/yolov5/detect.py --save-txt --weights /content/drive/MyDrive/MajorProj/cnn_yolo/model.pt --source '{imagePath}' --img 416 --conf 0.4\n",
        "  #grab ouptut label path\n",
        "  labelOp='/content/'+res[-1].split()[-1]+'/'\n",
        "  textFileWithDimension=\"\"\n",
        "  for root, dirs, files in os.walk(labelOp):\n",
        "      for file in files:\n",
        "          if file.endswith('.txt'):\n",
        "              print(file)\n",
        "              textFileWithDimension=f'{labelOp}{file}'\n",
        "              break;\n",
        "  return textFileWithDimension\n",
        "\n",
        "def convertYoloCoordinateToOpenCv(imagePath,yoloTextFile):\n",
        "  img = cv2.imread(imagePath)\n",
        "  dh, dw, _ = img.shape\n",
        "\n",
        "  fl = open(yoloTextFile,\"r\")\n",
        "  data = fl.readlines()\n",
        "  fl.close()\n",
        "\n",
        "  for dt in data:\n",
        "\n",
        "      # Split string to float\n",
        "      _, x, y, w, h = map(float, dt.split(' '))\n",
        "      l = int((x - w / 2) * dw)\n",
        "      r = int((x + w / 2) * dw)\n",
        "      t = int((y - h / 2) * dh)\n",
        "      b = int((y + h / 2) * dh)\n",
        "      \n",
        "      if l < 0:\n",
        "          l = 0\n",
        "      if r > dw - 1:\n",
        "          r = dw - 1\n",
        "      if t < 0:\n",
        "          t = 0\n",
        "      if b > dh - 1:\n",
        "          b = dh - 1\n",
        "\n",
        "      cv2.rectangle(img, (l, t), (r, b), (0, 0, 255), 1)\n",
        "      return (l,t,r,b)\n",
        "\n",
        "\n",
        "def extractImagePart(orginalImage,l,t,r,b):\n",
        "  orginal=cv2.imread(orginalImage)\n",
        "  cropped_img = orginal[t:b,l:r]\n",
        "  return cropped_img"
      ]
    },
    {
      "cell_type": "code",
      "execution_count": null,
      "metadata": {
        "id": "uXX_Q1mHIBJE"
      },
      "outputs": [],
      "source": [
        "import os\n",
        "import os.path\n",
        "import cv2\n",
        "from google.colab.patches import cv2_imshow\n",
        "# import cv2_imshow\n",
        "for root, dirs, files in os.walk(bacterial_path):\n",
        "   count=0\n",
        "   for name in files:\n",
        "      imgPath=os.path.join(root, name)\n",
        "      destPath=\"/content/drive/MyDrive/MajorProj/Dataset/CROPPED/Bacterial/\"+\"cropped_\"+name\n",
        "      try:\n",
        "        with open(destPath) as f:\n",
        "          print(\"Already 😇\"+ destPath)\n",
        "      except: \n",
        "        labelFile=labelImageAndReturnLabelFile(imgPath)\n",
        "        try:\n",
        "          (l,t,r,b)=convertYoloCoordinateToOpenCv(imgPath,labelFile)\n",
        "        except:\n",
        "          continue\n",
        "              \n",
        "        cropped=extractImagePart(imgPath,l,t,r,b)\n",
        "      \n",
        "        cv2.imwrite(destPath,cropped)\n",
        "        print(\"✔️✔️ \"+\"Index: \"+str(count)+\" \"+name)\n",
        "        count=count+1\n"
      ]
    },
    {
      "cell_type": "code",
      "execution_count": null,
      "metadata": {
        "id": "8LRR_iHCIjcn"
      },
      "outputs": [],
      "source": [
        ""
      ]
    },
    {
      "cell_type": "code",
      "execution_count": null,
      "metadata": {
        "id": "Y-6F00cqJ2kT"
      },
      "outputs": [],
      "source": [
        ""
      ]
    }
  ],
  "metadata": {
    "colab": {
      "name": "crop.ipynb",
      "provenance": []
    },
    "kernelspec": {
      "display_name": "Python 3",
      "name": "python3"
    },
    "language_info": {
      "name": "python"
    }
  },
  "nbformat": 4,
  "nbformat_minor": 0
}